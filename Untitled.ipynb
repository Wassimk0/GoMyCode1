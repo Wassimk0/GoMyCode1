{
 "cells": [
  {
   "cell_type": "code",
   "execution_count": 1,
   "metadata": {},
   "outputs": [
    {
     "data": {
      "text/plain": [
       "' Well, in my opinion yr_bulit, grade, floors and bedrooms will be the most important \\n    features because they give us a quick overview of the house condition '"
      ]
     },
     "execution_count": 1,
     "metadata": {},
     "output_type": "execute_result"
    }
   ],
   "source": [
    "#2)\n",
    "\"\"\" Well, in my opinion yr_bulit, grade, floors and bedrooms will be the most important \n",
    "    features because they give us a quick overview of the house condition \"\"\""
   ]
  },
  {
   "cell_type": "code",
   "execution_count": 39,
   "metadata": {},
   "outputs": [],
   "source": [
    "#3)\n",
    "import pandas as pd \n",
    "from sklearn.model_selection import train_test_split\n",
    "\n",
    "data = pd.read_csv('kc_house_data.csv')\n",
    "\n",
    "features = [\"grade\",\"bedrooms\",\"condition\",\"yr_built\",\"price\"]\n",
    "target = \"price\"\n",
    "x=data[features].values\n",
    "y=data[target].values\n",
    "\n",
    "x_train,x_test,y_train,y_test=train_test_split(x,y,test_size=0.35,random_state=40)"
   ]
  },
  {
   "cell_type": "code",
   "execution_count": 42,
   "metadata": {},
   "outputs": [],
   "source": [
    "#4)\n",
    "import pandas as pd \n",
    "import matplotlib.pyplot as plt\n",
    "from sklearn.model_selection import train_test_split\n",
    "from sklearn.linear_model import LinearRegression\n",
    "\n",
    "data = pd.read_csv('kc_house_data.csv')\n",
    "\n",
    "features = [\"grade\"]\n",
    "target = \"price\"\n",
    "x=data[features].values\n",
    "y=data[target].values\n",
    "\n",
    "x_train,x_test,y_train,y_test=train_test_split(x,y,test_size=0.35,random_state=40)\n",
    "\n",
    "model=LinearRegression() \n",
    "\n",
    "\n"
   ]
  },
  {
   "cell_type": "code",
   "execution_count": 11,
   "metadata": {},
   "outputs": [
    {
     "data": {
      "image/png": "[encoded data removed]",
      "text/plain": [
       "<Figure size 432x288 with 1 Axes>"
      ]
     },
     "metadata": {
      "needs_background": "light"
     },
     "output_type": "display_data"
    }
   ],
   "source": [
    "#5)\n",
    "\n",
    "\n",
    "\n"
   ]
  },
  {
   "cell_type": "code",
   "execution_count": 43,
   "metadata": {},
   "outputs": [
    {
     "name": "stdout",
     "output_type": "stream",
     "text": [
      "0.8729676140118969\n"
     ]
    }
   ],
   "source": [
    "#5)\n",
    "from sklearn.metrics import accuracy_score\n",
    "from sklearn.tree import DecisionTreeClassifier\n",
    "model = DecisionTreeClassifier()\n",
    "model.fit(x_train,y_train) \n",
    "predicted=model.predict(x_test)\n",
    "\n",
    "predictions = model.predict(x_test)\n",
    "score = accuracy_score(x_test,predictions)\n",
    "print(score)\n"
   ]
  },
  {
   "cell_type": "code",
   "execution_count": 45,
   "metadata": {},
   "outputs": [
    {
     "name": "stdout",
     "output_type": "stream",
     "text": [
      "MSE 57911745668.313354\n",
      "R squared 0.5393502769789251\n",
      "0.5268251365780697\n"
     ]
    },
    {
     "data": {
      "image/png": "[encoded data removed]",
      "text/plain": [
       "<Figure size 432x288 with 1 Axes>"
      ]
     },
     "metadata": {
      "needs_background": "light"
     },
     "output_type": "display_data"
    }
   ],
   "source": [
    "#6)\n",
    "import numpy as np\n",
    "import pandas as pd \n",
    "import matplotlib.pyplot as plt\n",
    "\n",
    "from sklearn.model_selection import train_test_split\n",
    "from sklearn.linear_model import LinearRegression\n",
    "from sklearn.metrics import mean_squared_error\n",
    "from sklearn import metrics\n",
    "\n",
    "\n",
    "data = pd.read_csv('kc_house_data.csv')\n",
    "features = [\"grade\",\"bedrooms\",\"condition\",\"yr_built\"]\n",
    "target = \"price\"\n",
    "x=data[features].values\n",
    "y=data[target].values\n",
    "\n",
    "x_train,x_test,y_train,y_test=train_test_split(x,y,test_size=0.35,random_state=40)\n",
    "\n",
    "\n",
    "model=LinearRegression() #build linear regression model\n",
    "model.fit(x_train,y_train) #fitting the training data\n",
    "predicted=model.predict(x_test)\n",
    "\n",
    "\n",
    "x_train=np.arange(0,len(x_train),1)\n",
    "\n",
    "print(\"MSE\", mean_squared_error(y_test,predicted))\n",
    "print(\"R squared\", metrics.r2_score(y_test,predicted))\n",
    "print(model.score(x, y))\n",
    "\n",
    "\n",
    "\n",
    "\n",
    "plt.scatter(x[:,0],y,color=\"g\")\n",
    "plt.title(\"Linear Regression\")\n",
    "plt.ylabel(\"features\")\n",
    "plt.xlabel(\"PRICE\")\n",
    "plt.plot(x,model.predict(x),color=\"b\")\n",
    "plt.show()\n"
   ]
  },
  {
   "cell_type": "code",
   "execution_count": null,
   "metadata": {},
   "outputs": [],
   "source": [
    "#7)\n",
    "import numpy as np\n",
    "import pandas as pd \n",
    "import matplotlib.pyplot as plt\n",
    "\n",
    "from sklearn.model_selection import train_test_split\n",
    "from sklearn.linear_model import LinearRegression\n",
    "from sklearn.preprocessing import PolynomialFeatures \n",
    "\n",
    "from sklearn.metrics import mean_squared_error\n",
    "from sklearn import metrics\n",
    "x= data[[\"Age\", \"Seniority\"]]\n",
    "y= data[\"Salary\"].values\n",
    "\n",
    "x_train, x_test, y_train, y_test = train_test_split(x, y, test_size=0.35, random_state=40)  #splitting data\n",
    "lg=LinearRegression()\n",
    "poly=PolynomialFeatures(degree=3)\n",
    "\n",
    "x_train_fit = poly.fit_transform(x_train) #transforming our input data\n",
    "lg.fit(x_train_fit, y_train)\n",
    "x_test_ = poly.fit_transform(x_test)\n",
    "predicted = lg.predict(x_test_)\n",
    "\n",
    "print(\"MSE: \", metrics.mean_squared_error(y_test, predicted))\n",
    "print(\"R squared: \", metrics.r2_score(y_test,predicted))"
   ]
  }
 ],
 "metadata": {
  "kernelspec": {
   "display_name": "Python 3",
   "language": "python",
   "name": "python3"
  },
  "language_info": {
   "codemirror_mode": {
    "name": "ipython",
    "version": 3
   },
   "file_extension": ".py",
   "mimetype": "text/x-python",
   "name": "python",
   "nbconvert_exporter": "python",
   "pygments_lexer": "ipython3",
   "version": "3.8.5"
  }
 },
 "nbformat": 4,
 "nbformat_minor": 4
}
