{
 "cells": [
  {
   "cell_type": "markdown",
   "metadata": {
    "id": "96XVePqG-1PJ"
   },
   "source": [
    "# Functions are funny!"
   ]
  },
  {
   "cell_type": "markdown",
   "metadata": {
    "id": "rJi_eQ7v-1PV"
   },
   "source": [
    "### How to define functions in python"
   ]
  },
  {
   "cell_type": "code",
   "execution_count": 2,
   "metadata": {
    "executionInfo": {
     "elapsed": 930,
     "status": "ok",
     "timestamp": 1617379358900,
     "user": {
      "displayName": "SARA Madani",
      "photoUrl": "https://lh3.googleusercontent.com/a-/AOh14GgHSgyfQT263k9LcCxEH_b1VthPWleDsOPArRLiEA=s64",
      "userId": "12407079864711164725"
     },
     "user_tz": 0
    },
    "id": "lim5tZ1D-1PX"
   },
   "outputs": [
    {
     "name": "stdout",
     "output_type": "stream",
     "text": [
      "Hello from a function\n"
     ]
    }
   ],
   "source": [
    "def my_function():\n",
    "    print(\"Hello from a function\")\n",
    "my_function()    \n",
    "    "
   ]
  },
  {
   "cell_type": "markdown",
   "metadata": {
    "id": "GC5VXdG6-1PY"
   },
   "source": [
    "#### calling a function"
   ]
  },
  {
   "cell_type": "code",
   "execution_count": 3,
   "metadata": {
    "colab": {
     "base_uri": "https://localhost:8080/"
    },
    "executionInfo": {
     "elapsed": 893,
     "status": "ok",
     "timestamp": 1617379379798,
     "user": {
      "displayName": "SARA Madani",
      "photoUrl": "https://lh3.googleusercontent.com/a-/AOh14GgHSgyfQT263k9LcCxEH_b1VthPWleDsOPArRLiEA=s64",
      "userId": "12407079864711164725"
     },
     "user_tz": 0
    },
    "id": "JhznQtgE-1PZ",
    "outputId": "b8d47fcb-f8d1-40ab-b33a-d06208968ea2"
   },
   "outputs": [
    {
     "name": "stdout",
     "output_type": "stream",
     "text": [
      "Hello from a function\n"
     ]
    }
   ],
   "source": [
    "my_function()"
   ]
  },
  {
   "cell_type": "code",
   "execution_count": 4,
   "metadata": {
    "executionInfo": {
     "elapsed": 977,
     "status": "ok",
     "timestamp": 1617379434440,
     "user": {
      "displayName": "SARA Madani",
      "photoUrl": "https://lh3.googleusercontent.com/a-/AOh14GgHSgyfQT263k9LcCxEH_b1VthPWleDsOPArRLiEA=s64",
      "userId": "12407079864711164725"
     },
     "user_tz": 0
    },
    "id": "xwQfYKGKUuea"
   },
   "outputs": [],
   "source": [
    "def somme(a,b):\n",
    "  if a>0 and b<0:\n",
    "    return a+b"
   ]
  },
  {
   "cell_type": "code",
   "execution_count": 5,
   "metadata": {
    "executionInfo": {
     "elapsed": 832,
     "status": "ok",
     "timestamp": 1617379549239,
     "user": {
      "displayName": "SARA Madani",
      "photoUrl": "https://lh3.googleusercontent.com/a-/AOh14GgHSgyfQT263k9LcCxEH_b1VthPWleDsOPArRLiEA=s64",
      "userId": "12407079864711164725"
     },
     "user_tz": 0
    },
    "id": "9dCS2yR-VTUr"
   },
   "outputs": [],
   "source": [
    "somme(-1,-1)"
   ]
  },
  {
   "cell_type": "code",
   "execution_count": 6,
   "metadata": {
    "colab": {
     "base_uri": "https://localhost:8080/"
    },
    "executionInfo": {
     "elapsed": 923,
     "status": "ok",
     "timestamp": 1617379522332,
     "user": {
      "displayName": "SARA Madani",
      "photoUrl": "https://lh3.googleusercontent.com/a-/AOh14GgHSgyfQT263k9LcCxEH_b1VthPWleDsOPArRLiEA=s64",
      "userId": "12407079864711164725"
     },
     "user_tz": 0
    },
    "id": "-tRQOPPyUuoN",
    "outputId": "337729ff-908e-4c1d-e788-c5afa2879a35"
   },
   "outputs": [
    {
     "data": {
      "text/plain": [
       "1"
      ]
     },
     "execution_count": 6,
     "metadata": {},
     "output_type": "execute_result"
    }
   ],
   "source": [
    "somme(10,-9)"
   ]
  },
  {
   "cell_type": "markdown",
   "metadata": {
    "id": "Luj_3bzl-1Pd"
   },
   "source": [
    "### parameterized function"
   ]
  },
  {
   "cell_type": "code",
   "execution_count": 7,
   "metadata": {
    "executionInfo": {
     "elapsed": 847,
     "status": "ok",
     "timestamp": 1617379583254,
     "user": {
      "displayName": "SARA Madani",
      "photoUrl": "https://lh3.googleusercontent.com/a-/AOh14GgHSgyfQT263k9LcCxEH_b1VthPWleDsOPArRLiEA=s64",
      "userId": "12407079864711164725"
     },
     "user_tz": 0
    },
    "id": "Gj66HLI_-1Pe"
   },
   "outputs": [],
   "source": [
    "def my_function(name):\n",
    "    print(\"welcome to GoMyCode \"+name )"
   ]
  },
  {
   "cell_type": "code",
   "execution_count": 8,
   "metadata": {
    "colab": {
     "base_uri": "https://localhost:8080/"
    },
    "executionInfo": {
     "elapsed": 953,
     "status": "ok",
     "timestamp": 1617379584677,
     "user": {
      "displayName": "SARA Madani",
      "photoUrl": "https://lh3.googleusercontent.com/a-/AOh14GgHSgyfQT263k9LcCxEH_b1VthPWleDsOPArRLiEA=s64",
      "userId": "12407079864711164725"
     },
     "user_tz": 0
    },
    "id": "ezZygWZH-1Pf",
    "outputId": "f96b8130-2041-40c0-ca40-b9dfbc753ad8"
   },
   "outputs": [
    {
     "name": "stdout",
     "output_type": "stream",
     "text": [
      "welcome to GoMyCode ahmed\n"
     ]
    }
   ],
   "source": [
    "my_function(\"ahmed\")"
   ]
  },
  {
   "cell_type": "code",
   "execution_count": 9,
   "metadata": {
    "executionInfo": {
     "elapsed": 1026,
     "status": "ok",
     "timestamp": 1617379686325,
     "user": {
      "displayName": "SARA Madani",
      "photoUrl": "https://lh3.googleusercontent.com/a-/AOh14GgHSgyfQT263k9LcCxEH_b1VthPWleDsOPArRLiEA=s64",
      "userId": "12407079864711164725"
     },
     "user_tz": 0
    },
    "id": "Du45zPOo-1Pf"
   },
   "outputs": [],
   "source": [
    "def my_function(name , last_name):\n",
    "    print(\"welcome to GoMyCode \"+name +\" \"+ last_name )"
   ]
  },
  {
   "cell_type": "code",
   "execution_count": 10,
   "metadata": {
    "colab": {
     "base_uri": "https://localhost:8080/"
    },
    "executionInfo": {
     "elapsed": 1088,
     "status": "ok",
     "timestamp": 1617379687738,
     "user": {
      "displayName": "SARA Madani",
      "photoUrl": "https://lh3.googleusercontent.com/a-/AOh14GgHSgyfQT263k9LcCxEH_b1VthPWleDsOPArRLiEA=s64",
      "userId": "12407079864711164725"
     },
     "user_tz": 0
    },
    "id": "hSOe3Fj1-1Pg",
    "outputId": "ecbd1a41-431d-446f-86a8-ad5fbb557194"
   },
   "outputs": [
    {
     "name": "stdout",
     "output_type": "stream",
     "text": [
      "welcome to GoMyCode you !!!\n"
     ]
    }
   ],
   "source": [
    "my_function(\"you\" , \"!!!\")"
   ]
  },
  {
   "cell_type": "code",
   "execution_count": null,
   "metadata": {
    "executionInfo": {
     "elapsed": 968,
     "status": "ok",
     "timestamp": 1617379701071,
     "user": {
      "displayName": "SARA Madani",
      "photoUrl": "https://lh3.googleusercontent.com/a-/AOh14GgHSgyfQT263k9LcCxEH_b1VthPWleDsOPArRLiEA=s64",
      "userId": "12407079864711164725"
     },
     "user_tz": 0
    },
    "id": "FJUP-FuY-1Ph"
   },
   "outputs": [],
   "source": [
    "def my_function(name = \"you\" ):\n",
    "    print(\"welcome to GoMyCode \"+name )"
   ]
  },
  {
   "cell_type": "code",
   "execution_count": null,
   "metadata": {
    "colab": {
     "base_uri": "https://localhost:8080/"
    },
    "executionInfo": {
     "elapsed": 924,
     "status": "ok",
     "timestamp": 1617379726830,
     "user": {
      "displayName": "SARA Madani",
      "photoUrl": "https://lh3.googleusercontent.com/a-/AOh14GgHSgyfQT263k9LcCxEH_b1VthPWleDsOPArRLiEA=s64",
      "userId": "12407079864711164725"
     },
     "user_tz": 0
    },
    "id": "VkfaasL5V7bq",
    "outputId": "4ea1fef2-6e94-4b76-a1f3-0cbd5eaf3466"
   },
   "outputs": [],
   "source": [
    "my_function()"
   ]
  },
  {
   "cell_type": "code",
   "execution_count": null,
   "metadata": {
    "colab": {
     "base_uri": "https://localhost:8080/"
    },
    "executionInfo": {
     "elapsed": 897,
     "status": "ok",
     "timestamp": 1617379744960,
     "user": {
      "displayName": "SARA Madani",
      "photoUrl": "https://lh3.googleusercontent.com/a-/AOh14GgHSgyfQT263k9LcCxEH_b1VthPWleDsOPArRLiEA=s64",
      "userId": "12407079864711164725"
     },
     "user_tz": 0
    },
    "id": "SBXonVxe-1Ph",
    "outputId": "056aa837-0f05-44f8-d29a-cc612e402159"
   },
   "outputs": [],
   "source": [
    "my_function(\"me\")"
   ]
  },
  {
   "cell_type": "code",
   "execution_count": 11,
   "metadata": {
    "executionInfo": {
     "elapsed": 968,
     "status": "ok",
     "timestamp": 1617379835228,
     "user": {
      "displayName": "SARA Madani",
      "photoUrl": "https://lh3.googleusercontent.com/a-/AOh14GgHSgyfQT263k9LcCxEH_b1VthPWleDsOPArRLiEA=s64",
      "userId": "12407079864711164725"
     },
     "user_tz": 0
    },
    "id": "HW4Q-y9O-1Pi"
   },
   "outputs": [],
   "source": [
    "def my_function(x):\n",
    "     return 5 * x"
   ]
  },
  {
   "cell_type": "code",
   "execution_count": 12,
   "metadata": {
    "colab": {
     "base_uri": "https://localhost:8080/"
    },
    "executionInfo": {
     "elapsed": 625,
     "status": "ok",
     "timestamp": 1617379838584,
     "user": {
      "displayName": "SARA Madani",
      "photoUrl": "https://lh3.googleusercontent.com/a-/AOh14GgHSgyfQT263k9LcCxEH_b1VthPWleDsOPArRLiEA=s64",
      "userId": "12407079864711164725"
     },
     "user_tz": 0
    },
    "id": "R4T-6-lP-1Pi",
    "outputId": "293ad051-71e4-4f4f-9760-be19571d879f"
   },
   "outputs": [
    {
     "name": "stdout",
     "output_type": "stream",
     "text": [
      "15\n"
     ]
    }
   ],
   "source": [
    "print(my_function(3))"
   ]
  },
  {
   "cell_type": "markdown",
   "metadata": {
    "id": "r3bDfjp9-1Pj"
   },
   "source": [
    "## Lambda function"
   ]
  },
  {
   "cell_type": "markdown",
   "metadata": {
    "id": "ClKHQISO-1Pj"
   },
   "source": [
    "let's try to traslate a user defined fuction into lambda function\n",
    "\n",
    "\n"
   ]
  },
  {
   "cell_type": "code",
   "execution_count": 13,
   "metadata": {
    "colab": {
     "base_uri": "https://localhost:8080/",
     "height": 35
    },
    "executionInfo": {
     "elapsed": 967,
     "status": "ok",
     "timestamp": 1617379894597,
     "user": {
      "displayName": "SARA Madani",
      "photoUrl": "https://lh3.googleusercontent.com/a-/AOh14GgHSgyfQT263k9LcCxEH_b1VthPWleDsOPArRLiEA=s64",
      "userId": "12407079864711164725"
     },
     "user_tz": 0
    },
    "id": "6b1FdfTg-1Pk",
    "outputId": "834d0e9f-47c2-4e2a-d03f-dee0c8a3f5dd"
   },
   "outputs": [
    {
     "data": {
      "text/plain": [
       "'hel'"
      ]
     },
     "execution_count": 13,
     "metadata": {},
     "output_type": "execute_result"
    }
   ],
   "source": [
    "def myfunction(ch):\n",
    "    return ch[0:3]\n",
    "myfunction(\"hello\")"
   ]
  },
  {
   "cell_type": "code",
   "execution_count": 14,
   "metadata": {
    "executionInfo": {
     "elapsed": 842,
     "status": "ok",
     "timestamp": 1617379974536,
     "user": {
      "displayName": "SARA Madani",
      "photoUrl": "https://lh3.googleusercontent.com/a-/AOh14GgHSgyfQT263k9LcCxEH_b1VthPWleDsOPArRLiEA=s64",
      "userId": "12407079864711164725"
     },
     "user_tz": 0
    },
    "id": "KPofvX4B-1Pl"
   },
   "outputs": [],
   "source": [
    "myfunction=lambda ch: ch[0:3] "
   ]
  },
  {
   "cell_type": "code",
   "execution_count": 15,
   "metadata": {
    "colab": {
     "base_uri": "https://localhost:8080/",
     "height": 35
    },
    "executionInfo": {
     "elapsed": 896,
     "status": "ok",
     "timestamp": 1617379976015,
     "user": {
      "displayName": "SARA Madani",
      "photoUrl": "https://lh3.googleusercontent.com/a-/AOh14GgHSgyfQT263k9LcCxEH_b1VthPWleDsOPArRLiEA=s64",
      "userId": "12407079864711164725"
     },
     "user_tz": 0
    },
    "id": "XDzTn1Qw-1Pl",
    "outputId": "3f135590-14f3-42fe-d28a-f94b6bdb648c"
   },
   "outputs": [
    {
     "data": {
      "text/plain": [
       "'hel'"
      ]
     },
     "execution_count": 15,
     "metadata": {},
     "output_type": "execute_result"
    }
   ],
   "source": [
    "myfunction(\"hello\")"
   ]
  },
  {
   "cell_type": "markdown",
   "metadata": {
    "id": "nvyuAewJ-1Pm"
   },
   "source": [
    "## Map function"
   ]
  },
  {
   "cell_type": "markdown",
   "metadata": {
    "id": "XN87ngt8-1Pm"
   },
   "source": [
    "let's try now to apply this function on many strings"
   ]
  },
  {
   "cell_type": "code",
   "execution_count": 16,
   "metadata": {
    "colab": {
     "base_uri": "https://localhost:8080/"
    },
    "executionInfo": {
     "elapsed": 828,
     "status": "ok",
     "timestamp": 1617380162698,
     "user": {
      "displayName": "SARA Madani",
      "photoUrl": "https://lh3.googleusercontent.com/a-/AOh14GgHSgyfQT263k9LcCxEH_b1VthPWleDsOPArRLiEA=s64",
      "userId": "12407079864711164725"
     },
     "user_tz": 0
    },
    "id": "fDYAOcUq-1Pn",
    "outputId": "7128bd9e-ae42-4b8e-8d26-c3d94e5acf28"
   },
   "outputs": [
    {
     "data": {
      "text/plain": [
       "['go', 'py', 'da']"
      ]
     },
     "execution_count": 16,
     "metadata": {},
     "output_type": "execute_result"
    }
   ],
   "source": [
    "strings=(\"gomycode\", \"python\", \"data science\")\n",
    "result=list(map(lambda ch: ch[0:2], strings))\n",
    "result"
   ]
  },
  {
   "cell_type": "code",
   "execution_count": null,
   "metadata": {
    "id": "yPHiAwPo-1Pp"
   },
   "outputs": [],
   "source": []
  }
 ],
 "metadata": {
  "colab": {
   "collapsed_sections": [],
   "name": "Workshop 5:: Functions.ipynb",
   "provenance": []
  },
  "kernelspec": {
   "display_name": "Python 3 (ipykernel)",
   "language": "python",
   "name": "python3"
  },
  "language_info": {
   "codemirror_mode": {
    "name": "ipython",
    "version": 3
   },
   "file_extension": ".py",
   "mimetype": "text/x-python",
   "name": "python",
   "nbconvert_exporter": "python",
   "pygments_lexer": "ipython3",
   "version": "3.9.12"
  }
 },
 "nbformat": 4,
 "nbformat_minor": 1
}
