{
 "cells": [
  {
   "cell_type": "code",
   "execution_count": null,
   "metadata": {},
   "outputs": [],
   "source": [
    "import cv2\n",
    "import mediapipe as mp\n",
    "import time\n",
    "import pyautogui\n",
    "import mouse\n",
    "cap = cv2.VideoCapture(0)\n",
    "\n",
    "mpHands = mp.solutions.hands\n",
    "mpDrow = mp.solutions.drawing_utils\n",
    "hands = mpHands.Hands()\n",
    "\n",
    "pTime = 0\n",
    "cTime = 0\n",
    "\n",
    "while True:\n",
    "    succ, img = cap.read()\n",
    "    imgRGB = cv2.cvtColor(img,cv2.COLOR_BGR2RGB)\n",
    "    results = hands.process(imgRGB)\n",
    "    #print(results.multi_hand_landmarks)\n",
    "    if (results.multi_hand_landmarks):\n",
    "        for handLms in results.multi_hand_landmarks:\n",
    "            for Id, lm in enumerate(handLms.landmark):\n",
    "              \n",
    "                \n",
    "                h, w, c = img.shape\n",
    "                cx, cy = int(lm.x*w), int(lm.y*h)\n",
    "                \n",
    "                if  Id == 8:\n",
    "                    cv2.circle(img,(cx,cy),25,(255,255,255),cv2.FILLED)\n",
    "                    #print(Id,': ',cx,cy)\n",
    "                    mouse.move(cx*3, cy*3)\n",
    "                    a = cx\n",
    "                if  Id == 12:\n",
    "                    b = cx\n",
    "                    if abs(a - b) < 30 :\n",
    "                        print('click')\n",
    "                        mouse.click(\"left\")  \n",
    "            mpDrow.draw_landmarks(img,handLms,mpHands.HAND_CONNECTIONS)\n",
    "\n",
    "\n",
    "    cTime = time.time()\n",
    "    f = 1/(cTime-pTime)\n",
    "    pTime = cTime        \n",
    "    fps = str(f)\n",
    "    cv2.putText(img,fps[0:2],(10,70),cv2.FONT_HERSHEY_PLAIN,3,(255,0,255),3)\n",
    "\n",
    "    cv2.imshow(\"imahe\",img)\n",
    "    cv2.waitKey(1)"
   ]
  }
 ],
 "metadata": {
  "kernelspec": {
   "display_name": "Python 3",
   "language": "python",
   "name": "python3"
  },
  "language_info": {
   "codemirror_mode": {
    "name": "ipython",
    "version": 3
   },
   "file_extension": ".py",
   "mimetype": "text/x-python",
   "name": "python",
   "nbconvert_exporter": "python",
   "pygments_lexer": "ipython3",
   "version": "3.8.5"
  }
 },
 "nbformat": 4,
 "nbformat_minor": 4
}
