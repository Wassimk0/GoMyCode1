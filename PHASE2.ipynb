{
  "cells": [
    {
      "cell_type": "markdown",
      "metadata": {
        "id": "view-in-github",
        "colab_type": "text"
      },
      "source": [
        "<a href=\"https://colab.research.google.com/github/Wassimk0/GoMyCode1/blob/main/PHASE2.ipynb\" target=\"_parent\"><img src=\"https://colab.research.google.com/assets/colab-badge.svg\" alt=\"Open In Colab\"/></a>"
      ]
    },
    {
      "cell_type": "markdown",
      "id": "8e899410",
      "metadata": {
        "id": "8e899410"
      },
      "source": [
        "# Phase 2\n",
        "\n",
        "Quiz Execution and Navigation"
      ]
    },
    {
      "cell_type": "code",
      "execution_count": null,
      "id": "121aec33",
      "metadata": {
        "id": "121aec33"
      },
      "outputs": [],
      "source": [
        "#Part 1: Importing Libraries\n",
        "import tkinter as tk\n",
        "from tkinter import messagebox\n",
        "import json\n",
        "\n",
        "#Part 2: Quiz Class Initialization\n",
        "class Quiz:\n",
        "    def __init__(self, root):\n",
        "        self.root = root\n",
        "        self.root.title(\"Quiz Land\")\n",
        "        self.current_question = 0\n",
        "        self.score = 0\n",
        "\n",
        "        self.radio_var = tk.IntVar() #object to store the selected radio button option.\n",
        "\n",
        "        # Create the Quit button\n",
        "        self.quit_button = tk.Button(root, text=\"Quit\",command=self.quit_game)\n",
        "        self.quit_button.pack(side=tk.BOTTOM, pady=10, anchor='s')\n",
        "\n",
        "        # Create the Start Game button\n",
        "        self.start_button = tk.Button(root, text=\"Start Game\", command=self.start_game)\n",
        "        self.start_button.pack(side=tk.BOTTOM, pady=10, anchor='s')\n",
        "\n",
        "        # Placeholder for quiz data\n",
        "        self.quiz_data = None\n",
        "\n",
        "        # Create the question label\n",
        "        self.question_label = tk.Label(root, text=\"\")\n",
        "        self.question_label.pack()\n",
        "\n",
        "        # List to store the option buttons\n",
        "        self.option_buttons = []\n",
        "\n",
        "        # Create the Next button\n",
        "        #self.next_button = tk.Button(root, text=\"Next\", command=self.next_question)\n",
        "        self.next_button = tk.Button(root, text=\"Next\", command=self.next_question)\n",
        "        # Create the Quit Game button\n",
        "        self.quit_game_button = tk.Button(root, text=\"Quit Game\", command=self.quit_game)\n",
        "\n",
        "#Part 4: Starting the Game\n",
        "    def start_game(self):\n",
        "        # Hide the Start and Quit buttons\n",
        "        self.start_button.pack_forget()\n",
        "        self.quit_button.pack_forget()\n",
        "\n",
        "        # Load and display the first question\n",
        "        self.load_question(self.current_question)\n",
        "\n",
        "        # Display the Next and Quit Game buttons\n",
        "        self.next_button.pack()\n",
        "        self.quit_game_button.pack()\n",
        "\n",
        "\n",
        "#Part 5: Loading a Question\n",
        "    def load_question(self, question_number):\n",
        "        question_data = self.quiz_data[question_number]\n",
        "\n",
        "        # Set the question text\n",
        "        self.question_label.configure(text=question_data[\"question\"])\n",
        "\n",
        "        if self.option_buttons:\n",
        "            # If option buttons already exist, update their text\n",
        "            for i in range(4):\n",
        "                self.option_buttons[i].configure(text=question_data[\"options\"][i])\n",
        "        else:\n",
        "            # If option buttons don't exist, create them and store in the list\n",
        "            for i in range(4):\n",
        "                button = tk.Radiobutton(self.root, text=question_data[\"options\"][i], variable=self.radio_var, value=i)\n",
        "                button.pack()\n",
        "                self.option_buttons.append(button)\n",
        "\n",
        "#Part 6: Proceeding to the Next Question\n",
        "    def next_question(self):\n",
        "        selected_option = int(self.radio_var.get())\n",
        "\n",
        "        if selected_option == -1:\n",
        "            messagebox.showerror(\"Error\", \"Please select an option!\")\n",
        "        else:\n",
        "            correct_answer = self.quiz_data[self.current_question][\"answer\"]\n",
        "            if selected_option == correct_answer:\n",
        "                self.score += 1\n",
        "\n",
        "            self.current_question += 1\n",
        "            if self.current_question < self.total_questions:\n",
        "                # Load and display the next question\n",
        "                self.load_question(self.current_question)\n",
        "                self.radio_var.set(-1)\n",
        "            else:\n",
        "                # Show the quiz results\n",
        "                self.show_results()\n",
        "\n",
        "#Part 7: Showing the Quiz Results\n",
        "    def show_results(self):\n",
        "        messagebox.showinfo(\"Quiz Results\", f\"You scored {self.score} out of {self.total_questions}!\")\n",
        "\n",
        "    def quit_game(self):\n",
        "        if messagebox.askyesno(\"Quit\", \"Are you sure you want to quit the game?\"):\n",
        "            self.root.destroy()\n",
        "\n",
        "root = tk.Tk()\n",
        "# Create an instance of the Quiz class\n",
        "quiz = Quiz(root)\n",
        "\n",
        "# Load quiz data from JSON file\n",
        "with open(\"quiz_data.json\") as file:\n",
        "    quiz.quiz_data = json.load(file)\n",
        "\n",
        "# Set the total number of questions\n",
        "quiz.total_questions = len(quiz.quiz_data)\n",
        "\n",
        "# Start the GUI event loop\n",
        "root.mainloop()"
      ]
    },
    {
      "cell_type": "code",
      "execution_count": null,
      "id": "cf4c647a",
      "metadata": {
        "id": "cf4c647a"
      },
      "outputs": [],
      "source": []
    }
  ],
  "metadata": {
    "kernelspec": {
      "display_name": "Python 3 (ipykernel)",
      "language": "python",
      "name": "python3"
    },
    "language_info": {
      "codemirror_mode": {
        "name": "ipython",
        "version": 3
      },
      "file_extension": ".py",
      "mimetype": "text/x-python",
      "name": "python",
      "nbconvert_exporter": "python",
      "pygments_lexer": "ipython3",
      "version": "3.9.7"
    },
    "colab": {
      "provenance": [],
      "include_colab_link": true
    }
  },
  "nbformat": 4,
  "nbformat_minor": 5
}